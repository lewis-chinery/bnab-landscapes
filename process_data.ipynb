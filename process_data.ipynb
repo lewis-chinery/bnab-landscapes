{
 "cells": [
  {
   "cell_type": "code",
   "execution_count": 24,
   "metadata": {},
   "outputs": [],
   "source": [
    "import os\n",
    "import pandas as pd\n",
    "from process_data import load_processed_affinity_data, plot_affinity_by_edit_distance"
   ]
  },
  {
   "cell_type": "code",
   "execution_count": 25,
   "metadata": {},
   "outputs": [],
   "source": [
    "root_dir = os.path.abspath(\"\")\n",
    "save_data_dir = os.path.join(root_dir, \"processed_data\")"
   ]
  },
  {
   "cell_type": "code",
   "execution_count": 26,
   "metadata": {},
   "outputs": [],
   "source": [
    "ab = \"9114\"  # 6261 | 9114"
   ]
  },
  {
   "cell_type": "code",
   "execution_count": 27,
   "metadata": {},
   "outputs": [
    {
     "data": {
      "text/html": [
       "<div>\n",
       "<style scoped>\n",
       "    .dataframe tbody tr th:only-of-type {\n",
       "        vertical-align: middle;\n",
       "    }\n",
       "\n",
       "    .dataframe tbody tr th {\n",
       "        vertical-align: top;\n",
       "    }\n",
       "\n",
       "    .dataframe thead th {\n",
       "        text-align: right;\n",
       "    }\n",
       "</style>\n",
       "<table border=\"1\" class=\"dataframe\">\n",
       "  <thead>\n",
       "    <tr style=\"text-align: right;\">\n",
       "      <th></th>\n",
       "      <th>binary_id</th>\n",
       "      <th>str_aa_id</th>\n",
       "      <th>edit_distance</th>\n",
       "      <th>H_seq</th>\n",
       "      <th>h1_mean</th>\n",
       "      <th>h3_mean</th>\n",
       "      <th>fluB_mean</th>\n",
       "    </tr>\n",
       "  </thead>\n",
       "  <tbody>\n",
       "    <tr>\n",
       "      <th>0</th>\n",
       "      <td>1001110010000101</td>\n",
       "      <td>SSSSSTNTISTSSTYS</td>\n",
       "      <td>9</td>\n",
       "      <td>QVQLVQSGAEVKKPGSSVKVSCKASGGTSSSYAISWVRQAPGQGLE...</td>\n",
       "      <td>9.484586</td>\n",
       "      <td>6.000000</td>\n",
       "      <td>6.0</td>\n",
       "    </tr>\n",
       "    <tr>\n",
       "      <th>1</th>\n",
       "      <td>0001111110011011</td>\n",
       "      <td>FSSSSTASISTNNRFS</td>\n",
       "      <td>6</td>\n",
       "      <td>QVQLVQSGAEVKKPGSSVKVSCKASGGTFSSYAISWVRQAPGQGLE...</td>\n",
       "      <td>9.430991</td>\n",
       "      <td>6.000000</td>\n",
       "      <td>6.0</td>\n",
       "    </tr>\n",
       "    <tr>\n",
       "      <th>2</th>\n",
       "      <td>1111110010011111</td>\n",
       "      <td>SNNSSTNTISTNNTFS</td>\n",
       "      <td>4</td>\n",
       "      <td>QVQLVQSGAEVKKPGSSVKVSCKASGGTSNNYAISWVRQAPGQGLE...</td>\n",
       "      <td>9.497006</td>\n",
       "      <td>6.736213</td>\n",
       "      <td>6.0</td>\n",
       "    </tr>\n",
       "    <tr>\n",
       "      <th>3</th>\n",
       "      <td>1011111110101110</td>\n",
       "      <td>SSNSSTASISSSNTFY</td>\n",
       "      <td>4</td>\n",
       "      <td>QVQLVQSGAEVKKPGSSVKVSCKASGGTSSNYAISWVRQAPGQGLE...</td>\n",
       "      <td>9.499691</td>\n",
       "      <td>6.000000</td>\n",
       "      <td>6.0</td>\n",
       "    </tr>\n",
       "    <tr>\n",
       "      <th>4</th>\n",
       "      <td>1111101010000111</td>\n",
       "      <td>SNNSSAATISTSSTFS</td>\n",
       "      <td>6</td>\n",
       "      <td>QVQLVQSGAEVKKPGSSVKVSCKASGGTSNNYAISWVRQAPGQGLE...</td>\n",
       "      <td>9.380737</td>\n",
       "      <td>6.000000</td>\n",
       "      <td>6.0</td>\n",
       "    </tr>\n",
       "    <tr>\n",
       "      <th>...</th>\n",
       "      <td>...</td>\n",
       "      <td>...</td>\n",
       "      <td>...</td>\n",
       "      <td>...</td>\n",
       "      <td>...</td>\n",
       "      <td>...</td>\n",
       "      <td>...</td>\n",
       "    </tr>\n",
       "    <tr>\n",
       "      <th>65531</th>\n",
       "      <td>0000100010110100</td>\n",
       "      <td>FSSISANTISSNSTYY</td>\n",
       "      <td>11</td>\n",
       "      <td>QVQLVQSGAEVKKPGSSVKVSCKASGGTFSSYAISWVRQAPGQGLE...</td>\n",
       "      <td>NaN</td>\n",
       "      <td>6.000000</td>\n",
       "      <td>6.0</td>\n",
       "    </tr>\n",
       "    <tr>\n",
       "      <th>65532</th>\n",
       "      <td>0010100000110110</td>\n",
       "      <td>FSNISANTKSSNSTFY</td>\n",
       "      <td>10</td>\n",
       "      <td>QVQLVQSGAEVKKPGSSVKVSCKASGGTFSNYAISWVRQAPGQGLE...</td>\n",
       "      <td>NaN</td>\n",
       "      <td>6.000000</td>\n",
       "      <td>6.0</td>\n",
       "    </tr>\n",
       "    <tr>\n",
       "      <th>65533</th>\n",
       "      <td>0010100010111000</td>\n",
       "      <td>FSNISANTISSNNRYY</td>\n",
       "      <td>10</td>\n",
       "      <td>QVQLVQSGAEVKKPGSSVKVSCKASGGTFSNYAISWVRQAPGQGLE...</td>\n",
       "      <td>NaN</td>\n",
       "      <td>6.000000</td>\n",
       "      <td>6.0</td>\n",
       "    </tr>\n",
       "    <tr>\n",
       "      <th>65534</th>\n",
       "      <td>0010100110001000</td>\n",
       "      <td>FSNISANSISTSNRYY</td>\n",
       "      <td>11</td>\n",
       "      <td>QVQLVQSGAEVKKPGSSVKVSCKASGGTFSNYAISWVRQAPGQGLE...</td>\n",
       "      <td>NaN</td>\n",
       "      <td>6.000000</td>\n",
       "      <td>6.0</td>\n",
       "    </tr>\n",
       "    <tr>\n",
       "      <th>65535</th>\n",
       "      <td>0010100111000110</td>\n",
       "      <td>FSNISANSIFTSSTFY</td>\n",
       "      <td>9</td>\n",
       "      <td>QVQLVQSGAEVKKPGSSVKVSCKASGGTFSNYAISWVRQAPGQGLE...</td>\n",
       "      <td>NaN</td>\n",
       "      <td>6.000000</td>\n",
       "      <td>6.0</td>\n",
       "    </tr>\n",
       "  </tbody>\n",
       "</table>\n",
       "<p>65536 rows × 7 columns</p>\n",
       "</div>"
      ],
      "text/plain": [
       "              binary_id         str_aa_id  edit_distance  \\\n",
       "0      1001110010000101  SSSSSTNTISTSSTYS              9   \n",
       "1      0001111110011011  FSSSSTASISTNNRFS              6   \n",
       "2      1111110010011111  SNNSSTNTISTNNTFS              4   \n",
       "3      1011111110101110  SSNSSTASISSSNTFY              4   \n",
       "4      1111101010000111  SNNSSAATISTSSTFS              6   \n",
       "...                 ...               ...            ...   \n",
       "65531  0000100010110100  FSSISANTISSNSTYY             11   \n",
       "65532  0010100000110110  FSNISANTKSSNSTFY             10   \n",
       "65533  0010100010111000  FSNISANTISSNNRYY             10   \n",
       "65534  0010100110001000  FSNISANSISTSNRYY             11   \n",
       "65535  0010100111000110  FSNISANSIFTSSTFY              9   \n",
       "\n",
       "                                                   H_seq   h1_mean   h3_mean  \\\n",
       "0      QVQLVQSGAEVKKPGSSVKVSCKASGGTSSSYAISWVRQAPGQGLE...  9.484586  6.000000   \n",
       "1      QVQLVQSGAEVKKPGSSVKVSCKASGGTFSSYAISWVRQAPGQGLE...  9.430991  6.000000   \n",
       "2      QVQLVQSGAEVKKPGSSVKVSCKASGGTSNNYAISWVRQAPGQGLE...  9.497006  6.736213   \n",
       "3      QVQLVQSGAEVKKPGSSVKVSCKASGGTSSNYAISWVRQAPGQGLE...  9.499691  6.000000   \n",
       "4      QVQLVQSGAEVKKPGSSVKVSCKASGGTSNNYAISWVRQAPGQGLE...  9.380737  6.000000   \n",
       "...                                                  ...       ...       ...   \n",
       "65531  QVQLVQSGAEVKKPGSSVKVSCKASGGTFSSYAISWVRQAPGQGLE...       NaN  6.000000   \n",
       "65532  QVQLVQSGAEVKKPGSSVKVSCKASGGTFSNYAISWVRQAPGQGLE...       NaN  6.000000   \n",
       "65533  QVQLVQSGAEVKKPGSSVKVSCKASGGTFSNYAISWVRQAPGQGLE...       NaN  6.000000   \n",
       "65534  QVQLVQSGAEVKKPGSSVKVSCKASGGTFSNYAISWVRQAPGQGLE...       NaN  6.000000   \n",
       "65535  QVQLVQSGAEVKKPGSSVKVSCKASGGTFSNYAISWVRQAPGQGLE...       NaN  6.000000   \n",
       "\n",
       "       fluB_mean  \n",
       "0            6.0  \n",
       "1            6.0  \n",
       "2            6.0  \n",
       "3            6.0  \n",
       "4            6.0  \n",
       "...          ...  \n",
       "65531        6.0  \n",
       "65532        6.0  \n",
       "65533        6.0  \n",
       "65534        6.0  \n",
       "65535        6.0  \n",
       "\n",
       "[65536 rows x 7 columns]"
      ]
     },
     "execution_count": 27,
     "metadata": {},
     "output_type": "execute_result"
    }
   ],
   "source": [
    "df = load_processed_affinity_data(ab)\n",
    "df.to_csv(os.path.join(save_data_dir, f\"{ab}_affinities.csv\"), index=False)\n",
    "df"
   ]
  },
  {
   "cell_type": "code",
   "execution_count": 29,
   "metadata": {},
   "outputs": [
    {
     "name": "stdout",
     "output_type": "stream",
     "text": [
      "Total df size for 9114 and h1: \t\t\t\t\t\t65,536\n",
      "Number of affinities for 9114 and h1 equal to lower limit: \t\t1,675\n",
      "Number of non-null affinities for 9114 and h1: \t\t\t\t65,094\n",
      "Number of non-null affinities for 9114 and h1 greater than lower limit: 63,419\n",
      "\n",
      "Proportion binding (not null and above lower limit) for 9114 and h1: 96.8%\n"
     ]
    }
   ],
   "source": [
    "# check the proportion binding against paper values\n",
    "\n",
    "ag = \"h1\"  # h1, h3, h9, fluB\n",
    "lower_limit = 7\n",
    "\n",
    "print(f\"Total df size for {ab} and {ag}: \\t\\t\\t\\t\\t\\t{df.shape[0]:,}\")\n",
    "\n",
    "lower_limit_df = df[df[f\"{ag}_mean\"]==lower_limit]\n",
    "print(f\"Number of affinities for {ab} and {ag} equal to lower limit: \\t\\t{lower_limit_df.shape[0]:,}\")\n",
    "\n",
    "not_null_df = df[~(df[f\"{ag}_mean\"].isnull())]\n",
    "print(f\"Number of non-null affinities for {ab} and {ag}: \\t\\t\\t\\t{not_null_df.shape[0]:,}\")\n",
    "\n",
    "binders_df = not_null_df[not_null_df[f\"{ag}_mean\"]>lower_limit]\n",
    "print(f\"Number of non-null affinities for {ab} and {ag} greater than lower limit: {binders_df.shape[0]:,}\")\n",
    "\n",
    "proportion = binders_df.shape[0]/df.shape[0]\n",
    "print(f\"\\nProportion binding (not null and above lower limit) for {ab} and {ag}: {100*proportion:.1f}%\")"
   ]
  },
  {
   "cell_type": "code",
   "execution_count": 32,
   "metadata": {},
   "outputs": [
    {
     "data": {
      "image/png": "[encoded data removed]",
      "text/plain": [
       "<Figure size 640x480 with 1 Axes>"
      ]
     },
     "metadata": {},
     "output_type": "display_data"
    }
   ],
   "source": [
    "plot_affinity_by_edit_distance(ab, df, target=ag)"
   ]
  },
  {
   "cell_type": "code",
   "execution_count": null,
   "metadata": {},
   "outputs": [],
   "source": []
  }
 ],
 "metadata": {
  "kernelspec": {
   "display_name": "bnab_flu_env",
   "language": "python",
   "name": "python3"
  },
  "language_info": {
   "codemirror_mode": {
    "name": "ipython",
    "version": 3
   },
   "file_extension": ".py",
   "mimetype": "text/x-python",
   "name": "python",
   "nbconvert_exporter": "python",
   "pygments_lexer": "ipython3",
   "version": "3.9.16"
  },
  "orig_nbformat": 4,
  "vscode": {
   "interpreter": {
    "hash": "3461f62269422539508c67a66eca98e9599a6678bbf00d49f8d4c61eaa146de6"
   }
  }
 },
 "nbformat": 4,
 "nbformat_minor": 2
}
