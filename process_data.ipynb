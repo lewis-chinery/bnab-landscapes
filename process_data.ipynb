{
 "cells": [
  {
   "cell_type": "code",
   "execution_count": 1,
   "metadata": {},
   "outputs": [],
   "source": [
    "import os\n",
    "from process_data import get_germline_sequence, \\\n",
    "                         get_anarci_numbering, \\\n",
    "                         get_heavy_sequence, \\\n",
    "                         load_raw_affinity_data, \\\n",
    "                         get_positions_mutated_from_germline, \\\n",
    "                         get_mutated_germline_vs_somatic_residues, \\\n",
    "                         load_processed_affinity_data, \\\n",
    "                         binary_to_aa_str, \\\n",
    "                         binary_to_full_Hseq"
   ]
  },
  {
   "cell_type": "code",
   "execution_count": 2,
   "metadata": {},
   "outputs": [],
   "source": [
    "ab = \"6261\"  # 6261 | 9114"
   ]
  },
  {
   "cell_type": "code",
   "execution_count": 3,
   "metadata": {},
   "outputs": [
    {
     "data": {
      "text/plain": [
       "'QVQLVQSGAEVKKPGSSVKVSCKASGGTFSSYAISWVRQAPGQGLEWMGGIIPIFGTANYAQKFQGRVTITADKSTSTAYMELSSLRSEDTAVYYCAKHMGYQLRETMDVWGQGTTVTVSS'"
      ]
     },
     "execution_count": 3,
     "metadata": {},
     "output_type": "execute_result"
    }
   ],
   "source": [
    "get_germline_sequence(ab)"
   ]
  },
  {
   "cell_type": "code",
   "execution_count": 4,
   "metadata": {},
   "outputs": [
    {
     "data": {
      "text/plain": [
       "'EVQLVESGAEVKKPGSSVKVSCKASGGPFRSYAISWVRQAPGQGPEWMGGIIPIFGTTKYAPKFQGRVTITADDFAGTVYMELSSLRSEDTAMYYCAKHMGYQVRETMDVWGKGTTVTVSS'"
      ]
     },
     "execution_count": 4,
     "metadata": {},
     "output_type": "execute_result"
    }
   ],
   "source": [
    "get_heavy_sequence(ab)"
   ]
  },
  {
   "cell_type": "code",
   "execution_count": 5,
   "metadata": {},
   "outputs": [
    {
     "data": {
      "text/plain": [
       "11"
      ]
     },
     "execution_count": 5,
     "metadata": {},
     "output_type": "execute_result"
    }
   ],
   "source": [
    "len(get_positions_mutated_from_germline(ab, ignore_same_residues_as_paper=True))\n",
    "# get_positions_mutated_from_germline(ab, ignore_same_residues_as_paper=True)"
   ]
  },
  {
   "cell_type": "code",
   "execution_count": 6,
   "metadata": {},
   "outputs": [
    {
     "name": "stdout",
     "output_type": "stream",
     "text": [
      "('T', 'P') ('S', 'R') ('A', 'T') ('N', 'K') ('Q', 'P') ('K', 'D') ('S', 'F') ('T', 'A') ('S', 'G') ('A', 'V') ('L', 'V')\n"
     ]
    }
   ],
   "source": [
    "germ, som = get_mutated_germline_vs_somatic_residues(ab)\n",
    "print(*zip(germ, som))"
   ]
  },
  {
   "cell_type": "code",
   "execution_count": 7,
   "metadata": {},
   "outputs": [
    {
     "data": {
      "text/plain": [
       "'       variant      repa      repb      repc   h1_mean   h1_sem      repx     repy      repz   h9_mean    h9_sem  pos1  pos2  pos3  pos4  pos5  pos6  pos7  pos8  pos9  pos10  pos11  som_mut\\n0  01010100111  9.430292  9.471053  9.432669  9.444671  0.00934  9.624192  9.63504  9.680783  9.646672  0.012262     0     1     0     1     0     1     0     0     1      1      1        6'"
      ]
     },
     "execution_count": 7,
     "metadata": {},
     "output_type": "execute_result"
    }
   ],
   "source": [
    "load_raw_affinity_data(ab).head(1).to_string()"
   ]
  },
  {
   "cell_type": "code",
   "execution_count": 10,
   "metadata": {},
   "outputs": [
    {
     "data": {
      "text/html": [
       "<div>\n",
       "<style scoped>\n",
       "    .dataframe tbody tr th:only-of-type {\n",
       "        vertical-align: middle;\n",
       "    }\n",
       "\n",
       "    .dataframe tbody tr th {\n",
       "        vertical-align: top;\n",
       "    }\n",
       "\n",
       "    .dataframe thead th {\n",
       "        text-align: right;\n",
       "    }\n",
       "</style>\n",
       "<table border=\"1\" class=\"dataframe\">\n",
       "  <thead>\n",
       "    <tr style=\"text-align: right;\">\n",
       "      <th></th>\n",
       "      <th>binary_id</th>\n",
       "      <th>str_aa_id</th>\n",
       "      <th>edit_distance</th>\n",
       "      <th>H_seq</th>\n",
       "      <th>h1_mean</th>\n",
       "      <th>h9_mean</th>\n",
       "    </tr>\n",
       "  </thead>\n",
       "  <tbody>\n",
       "    <tr>\n",
       "      <th>0</th>\n",
       "      <td>01010100111</td>\n",
       "      <td>TRAKQDSTGVV</td>\n",
       "      <td>5</td>\n",
       "      <td>QVQLVQSGAEVKKPGSSVKVSCKASGGTFRSYAISWVRQAPGQGLE...</td>\n",
       "      <td>9.444671</td>\n",
       "      <td>9.646672</td>\n",
       "    </tr>\n",
       "    <tr>\n",
       "      <th>1</th>\n",
       "      <td>01011110011</td>\n",
       "      <td>TRAKPDFTSVV</td>\n",
       "      <td>4</td>\n",
       "      <td>QVQLVQSGAEVKKPGSSVKVSCKASGGTFRSYAISWVRQAPGQGLE...</td>\n",
       "      <td>9.429218</td>\n",
       "      <td>9.404227</td>\n",
       "    </tr>\n",
       "    <tr>\n",
       "      <th>2</th>\n",
       "      <td>01010100101</td>\n",
       "      <td>TRAKQDSTGAV</td>\n",
       "      <td>6</td>\n",
       "      <td>QVQLVQSGAEVKKPGSSVKVSCKASGGTFRSYAISWVRQAPGQGLE...</td>\n",
       "      <td>9.099022</td>\n",
       "      <td>9.255789</td>\n",
       "    </tr>\n",
       "    <tr>\n",
       "      <th>3</th>\n",
       "      <td>01000100110</td>\n",
       "      <td>TRANQDSTGVL</td>\n",
       "      <td>7</td>\n",
       "      <td>QVQLVQSGAEVKKPGSSVKVSCKASGGTFRSYAISWVRQAPGQGLE...</td>\n",
       "      <td>9.322949</td>\n",
       "      <td>9.640237</td>\n",
       "    </tr>\n",
       "    <tr>\n",
       "      <th>4</th>\n",
       "      <td>01001100010</td>\n",
       "      <td>TRANPDSTSVL</td>\n",
       "      <td>7</td>\n",
       "      <td>QVQLVQSGAEVKKPGSSVKVSCKASGGTFRSYAISWVRQAPGQGLE...</td>\n",
       "      <td>8.612018</td>\n",
       "      <td>9.222265</td>\n",
       "    </tr>\n",
       "    <tr>\n",
       "      <th>...</th>\n",
       "      <td>...</td>\n",
       "      <td>...</td>\n",
       "      <td>...</td>\n",
       "      <td>...</td>\n",
       "      <td>...</td>\n",
       "      <td>...</td>\n",
       "    </tr>\n",
       "    <tr>\n",
       "      <th>1912</th>\n",
       "      <td>01100001000</td>\n",
       "      <td>TRTNQKSASAL</td>\n",
       "      <td>8</td>\n",
       "      <td>QVQLVQSGAEVKKPGSSVKVSCKASGGTFRSYAISWVRQAPGQGLE...</td>\n",
       "      <td>NaN</td>\n",
       "      <td>7.000000</td>\n",
       "    </tr>\n",
       "    <tr>\n",
       "      <th>1913</th>\n",
       "      <td>01101010000</td>\n",
       "      <td>TRTNPKFTSAL</td>\n",
       "      <td>7</td>\n",
       "      <td>QVQLVQSGAEVKKPGSSVKVSCKASGGTFRSYAISWVRQAPGQGLE...</td>\n",
       "      <td>NaN</td>\n",
       "      <td>7.000000</td>\n",
       "    </tr>\n",
       "    <tr>\n",
       "      <th>1914</th>\n",
       "      <td>00101110101</td>\n",
       "      <td>TSTNPDFTGAV</td>\n",
       "      <td>5</td>\n",
       "      <td>QVQLVQSGAEVKKPGSSVKVSCKASGGTFSSYAISWVRQAPGQGLE...</td>\n",
       "      <td>NaN</td>\n",
       "      <td>7.000000</td>\n",
       "    </tr>\n",
       "    <tr>\n",
       "      <th>1915</th>\n",
       "      <td>00111010000</td>\n",
       "      <td>TSTKPKFTSAL</td>\n",
       "      <td>7</td>\n",
       "      <td>QVQLVQSGAEVKKPGSSVKVSCKASGGTFSSYAISWVRQAPGQGLE...</td>\n",
       "      <td>NaN</td>\n",
       "      <td>7.000000</td>\n",
       "    </tr>\n",
       "    <tr>\n",
       "      <th>1916</th>\n",
       "      <td>10001010001</td>\n",
       "      <td>PSANPKFTSAV</td>\n",
       "      <td>7</td>\n",
       "      <td>QVQLVQSGAEVKKPGSSVKVSCKASGGPFSSYAISWVRQAPGQGLE...</td>\n",
       "      <td>NaN</td>\n",
       "      <td>7.000000</td>\n",
       "    </tr>\n",
       "  </tbody>\n",
       "</table>\n",
       "<p>1917 rows × 6 columns</p>\n",
       "</div>"
      ],
      "text/plain": [
       "        binary_id    str_aa_id  edit_distance  \\\n",
       "0     01010100111  TRAKQDSTGVV              5   \n",
       "1     01011110011  TRAKPDFTSVV              4   \n",
       "2     01010100101  TRAKQDSTGAV              6   \n",
       "3     01000100110  TRANQDSTGVL              7   \n",
       "4     01001100010  TRANPDSTSVL              7   \n",
       "...           ...          ...            ...   \n",
       "1912  01100001000  TRTNQKSASAL              8   \n",
       "1913  01101010000  TRTNPKFTSAL              7   \n",
       "1914  00101110101  TSTNPDFTGAV              5   \n",
       "1915  00111010000  TSTKPKFTSAL              7   \n",
       "1916  10001010001  PSANPKFTSAV              7   \n",
       "\n",
       "                                                  H_seq   h1_mean   h9_mean  \n",
       "0     QVQLVQSGAEVKKPGSSVKVSCKASGGTFRSYAISWVRQAPGQGLE...  9.444671  9.646672  \n",
       "1     QVQLVQSGAEVKKPGSSVKVSCKASGGTFRSYAISWVRQAPGQGLE...  9.429218  9.404227  \n",
       "2     QVQLVQSGAEVKKPGSSVKVSCKASGGTFRSYAISWVRQAPGQGLE...  9.099022  9.255789  \n",
       "3     QVQLVQSGAEVKKPGSSVKVSCKASGGTFRSYAISWVRQAPGQGLE...  9.322949  9.640237  \n",
       "4     QVQLVQSGAEVKKPGSSVKVSCKASGGTFRSYAISWVRQAPGQGLE...  8.612018  9.222265  \n",
       "...                                                 ...       ...       ...  \n",
       "1912  QVQLVQSGAEVKKPGSSVKVSCKASGGTFRSYAISWVRQAPGQGLE...       NaN  7.000000  \n",
       "1913  QVQLVQSGAEVKKPGSSVKVSCKASGGTFRSYAISWVRQAPGQGLE...       NaN  7.000000  \n",
       "1914  QVQLVQSGAEVKKPGSSVKVSCKASGGTFSSYAISWVRQAPGQGLE...       NaN  7.000000  \n",
       "1915  QVQLVQSGAEVKKPGSSVKVSCKASGGTFSSYAISWVRQAPGQGLE...       NaN  7.000000  \n",
       "1916  QVQLVQSGAEVKKPGSSVKVSCKASGGPFSSYAISWVRQAPGQGLE...       NaN  7.000000  \n",
       "\n",
       "[1917 rows x 6 columns]"
      ]
     },
     "execution_count": 10,
     "metadata": {},
     "output_type": "execute_result"
    }
   ],
   "source": [
    "df = load_processed_affinity_data(ab)\n",
    "df"
   ]
  },
  {
   "cell_type": "code",
   "execution_count": 9,
   "metadata": {},
   "outputs": [
    {
     "name": "stdout",
     "output_type": "stream",
     "text": [
      "QVQLVQSGAEVKKPGSSVKVSCKASGGTFSSYAISWVRQAPGQGLEWMGGIIPIFGTANYAQKFQGRVTITADKSTSTAYMELSSLRSEDTAVYYCAKHMGYQLRETMDVWGQGTTVTVSS\n",
      "QVQLVQSGAEVKKPGSSVKVSCKASGGPFRSYAISWVRQAPGQGLEWMGGIIPIFGTTKYAPKFQGRVTITADDFAGTVYMELSSLRSEDTAVYYCAKHMGYQVRETMDVWGQGTTVTVSS\n",
      "QVQLVQSGAEVKKPGSSVKVSCKASGGTFRSYAISWVRQAPGQGLEWMGGIIPIFGTAKYAQKFQGRVTITADDSTGTVYMELSSLRSEDTAVYYCAKHMGYQVRETMDVWGQGTTVTVSS\n"
     ]
    }
   ],
   "source": [
    "if ab == \"6261\":\n",
    "    print(binary_to_full_Hseq(\"00000000000\", ab))\n",
    "    print(binary_to_full_Hseq(\"11111111111\", ab))\n",
    "    print(binary_to_full_Hseq(\"01010100111\", ab))\n",
    "else:\n",
    "    print(binary_to_full_Hseq(\"0000000000000000\", ab))\n",
    "    print(binary_to_full_Hseq(\"1111111111111111\", ab))\n",
    "    print(binary_to_full_Hseq(\"0000100010110100\", ab))"
   ]
  },
  {
   "cell_type": "code",
   "execution_count": null,
   "metadata": {},
   "outputs": [],
   "source": []
  }
 ],
 "metadata": {
  "kernelspec": {
   "display_name": "bnab_flu_env",
   "language": "python",
   "name": "python3"
  },
  "language_info": {
   "codemirror_mode": {
    "name": "ipython",
    "version": 3
   },
   "file_extension": ".py",
   "mimetype": "text/x-python",
   "name": "python",
   "nbconvert_exporter": "python",
   "pygments_lexer": "ipython3",
   "version": "3.9.16"
  },
  "orig_nbformat": 4,
  "vscode": {
   "interpreter": {
    "hash": "3461f62269422539508c67a66eca98e9599a6678bbf00d49f8d4c61eaa146de6"
   }
  }
 },
 "nbformat": 4,
 "nbformat_minor": 2
}
