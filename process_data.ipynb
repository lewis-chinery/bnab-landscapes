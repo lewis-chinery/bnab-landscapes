{
 "cells": [
  {
   "cell_type": "code",
   "execution_count": 16,
   "metadata": {},
   "outputs": [],
   "source": [
    "import os\n",
    "import pandas as pd\n",
    "from process_data import load_processed_affinity_data, plot_affinity_by_edit_distance"
   ]
  },
  {
   "cell_type": "code",
   "execution_count": 17,
   "metadata": {},
   "outputs": [],
   "source": [
    "root_dir = os.path.abspath(\"\")\n",
    "save_data_dir = os.path.join(root_dir, \"processed_data\")"
   ]
  },
  {
   "cell_type": "code",
   "execution_count": 18,
   "metadata": {},
   "outputs": [],
   "source": [
    "ab = \"6261\"  # 6261 | 9114\n",
    "save_df = True"
   ]
  },
  {
   "cell_type": "code",
   "execution_count": 19,
   "metadata": {},
   "outputs": [
    {
     "data": {
      "text/html": [
       "<div>\n",
       "<style scoped>\n",
       "    .dataframe tbody tr th:only-of-type {\n",
       "        vertical-align: middle;\n",
       "    }\n",
       "\n",
       "    .dataframe tbody tr th {\n",
       "        vertical-align: top;\n",
       "    }\n",
       "\n",
       "    .dataframe thead th {\n",
       "        text-align: right;\n",
       "    }\n",
       "</style>\n",
       "<table border=\"1\" class=\"dataframe\">\n",
       "  <thead>\n",
       "    <tr style=\"text-align: right;\">\n",
       "      <th></th>\n",
       "      <th>binary_id</th>\n",
       "      <th>str_aa_id</th>\n",
       "      <th>edit_distance</th>\n",
       "      <th>H_seq</th>\n",
       "      <th>h1_mean</th>\n",
       "      <th>h9_mean</th>\n",
       "      <th>h1_class</th>\n",
       "      <th>h9_class</th>\n",
       "    </tr>\n",
       "  </thead>\n",
       "  <tbody>\n",
       "    <tr>\n",
       "      <th>0</th>\n",
       "      <td>01010100111</td>\n",
       "      <td>TRAKQDSTGVV</td>\n",
       "      <td>5</td>\n",
       "      <td>QVQLVQSGAEVKKPGSSVKVSCKASGGTFRSYAISWVRQAPGQGLE...</td>\n",
       "      <td>9.444671</td>\n",
       "      <td>9.646672</td>\n",
       "      <td>1</td>\n",
       "      <td>1</td>\n",
       "    </tr>\n",
       "    <tr>\n",
       "      <th>1</th>\n",
       "      <td>01011110011</td>\n",
       "      <td>TRAKPDFTSVV</td>\n",
       "      <td>4</td>\n",
       "      <td>QVQLVQSGAEVKKPGSSVKVSCKASGGTFRSYAISWVRQAPGQGLE...</td>\n",
       "      <td>9.429218</td>\n",
       "      <td>9.404227</td>\n",
       "      <td>1</td>\n",
       "      <td>1</td>\n",
       "    </tr>\n",
       "    <tr>\n",
       "      <th>2</th>\n",
       "      <td>01010100101</td>\n",
       "      <td>TRAKQDSTGAV</td>\n",
       "      <td>6</td>\n",
       "      <td>QVQLVQSGAEVKKPGSSVKVSCKASGGTFRSYAISWVRQAPGQGLE...</td>\n",
       "      <td>9.099022</td>\n",
       "      <td>9.255789</td>\n",
       "      <td>1</td>\n",
       "      <td>1</td>\n",
       "    </tr>\n",
       "    <tr>\n",
       "      <th>3</th>\n",
       "      <td>01000100110</td>\n",
       "      <td>TRANQDSTGVL</td>\n",
       "      <td>7</td>\n",
       "      <td>QVQLVQSGAEVKKPGSSVKVSCKASGGTFRSYAISWVRQAPGQGLE...</td>\n",
       "      <td>9.322949</td>\n",
       "      <td>9.640237</td>\n",
       "      <td>1</td>\n",
       "      <td>1</td>\n",
       "    </tr>\n",
       "    <tr>\n",
       "      <th>4</th>\n",
       "      <td>01001100010</td>\n",
       "      <td>TRANPDSTSVL</td>\n",
       "      <td>7</td>\n",
       "      <td>QVQLVQSGAEVKKPGSSVKVSCKASGGTFRSYAISWVRQAPGQGLE...</td>\n",
       "      <td>8.612018</td>\n",
       "      <td>9.222265</td>\n",
       "      <td>1</td>\n",
       "      <td>1</td>\n",
       "    </tr>\n",
       "    <tr>\n",
       "      <th>...</th>\n",
       "      <td>...</td>\n",
       "      <td>...</td>\n",
       "      <td>...</td>\n",
       "      <td>...</td>\n",
       "      <td>...</td>\n",
       "      <td>...</td>\n",
       "      <td>...</td>\n",
       "      <td>...</td>\n",
       "    </tr>\n",
       "    <tr>\n",
       "      <th>1912</th>\n",
       "      <td>01100001000</td>\n",
       "      <td>TRTNQKSASAL</td>\n",
       "      <td>8</td>\n",
       "      <td>QVQLVQSGAEVKKPGSSVKVSCKASGGTFRSYAISWVRQAPGQGLE...</td>\n",
       "      <td>NaN</td>\n",
       "      <td>7.000000</td>\n",
       "      <td>0</td>\n",
       "      <td>0</td>\n",
       "    </tr>\n",
       "    <tr>\n",
       "      <th>1913</th>\n",
       "      <td>01101010000</td>\n",
       "      <td>TRTNPKFTSAL</td>\n",
       "      <td>7</td>\n",
       "      <td>QVQLVQSGAEVKKPGSSVKVSCKASGGTFRSYAISWVRQAPGQGLE...</td>\n",
       "      <td>NaN</td>\n",
       "      <td>7.000000</td>\n",
       "      <td>0</td>\n",
       "      <td>0</td>\n",
       "    </tr>\n",
       "    <tr>\n",
       "      <th>1914</th>\n",
       "      <td>00101110101</td>\n",
       "      <td>TSTNPDFTGAV</td>\n",
       "      <td>5</td>\n",
       "      <td>QVQLVQSGAEVKKPGSSVKVSCKASGGTFSSYAISWVRQAPGQGLE...</td>\n",
       "      <td>NaN</td>\n",
       "      <td>7.000000</td>\n",
       "      <td>0</td>\n",
       "      <td>0</td>\n",
       "    </tr>\n",
       "    <tr>\n",
       "      <th>1915</th>\n",
       "      <td>00111010000</td>\n",
       "      <td>TSTKPKFTSAL</td>\n",
       "      <td>7</td>\n",
       "      <td>QVQLVQSGAEVKKPGSSVKVSCKASGGTFSSYAISWVRQAPGQGLE...</td>\n",
       "      <td>NaN</td>\n",
       "      <td>7.000000</td>\n",
       "      <td>0</td>\n",
       "      <td>0</td>\n",
       "    </tr>\n",
       "    <tr>\n",
       "      <th>1916</th>\n",
       "      <td>10001010001</td>\n",
       "      <td>PSANPKFTSAV</td>\n",
       "      <td>7</td>\n",
       "      <td>QVQLVQSGAEVKKPGSSVKVSCKASGGPFSSYAISWVRQAPGQGLE...</td>\n",
       "      <td>NaN</td>\n",
       "      <td>7.000000</td>\n",
       "      <td>0</td>\n",
       "      <td>0</td>\n",
       "    </tr>\n",
       "  </tbody>\n",
       "</table>\n",
       "<p>1917 rows × 8 columns</p>\n",
       "</div>"
      ],
      "text/plain": [
       "        binary_id    str_aa_id  edit_distance  \\\n",
       "0     01010100111  TRAKQDSTGVV              5   \n",
       "1     01011110011  TRAKPDFTSVV              4   \n",
       "2     01010100101  TRAKQDSTGAV              6   \n",
       "3     01000100110  TRANQDSTGVL              7   \n",
       "4     01001100010  TRANPDSTSVL              7   \n",
       "...           ...          ...            ...   \n",
       "1912  01100001000  TRTNQKSASAL              8   \n",
       "1913  01101010000  TRTNPKFTSAL              7   \n",
       "1914  00101110101  TSTNPDFTGAV              5   \n",
       "1915  00111010000  TSTKPKFTSAL              7   \n",
       "1916  10001010001  PSANPKFTSAV              7   \n",
       "\n",
       "                                                  H_seq   h1_mean   h9_mean  \\\n",
       "0     QVQLVQSGAEVKKPGSSVKVSCKASGGTFRSYAISWVRQAPGQGLE...  9.444671  9.646672   \n",
       "1     QVQLVQSGAEVKKPGSSVKVSCKASGGTFRSYAISWVRQAPGQGLE...  9.429218  9.404227   \n",
       "2     QVQLVQSGAEVKKPGSSVKVSCKASGGTFRSYAISWVRQAPGQGLE...  9.099022  9.255789   \n",
       "3     QVQLVQSGAEVKKPGSSVKVSCKASGGTFRSYAISWVRQAPGQGLE...  9.322949  9.640237   \n",
       "4     QVQLVQSGAEVKKPGSSVKVSCKASGGTFRSYAISWVRQAPGQGLE...  8.612018  9.222265   \n",
       "...                                                 ...       ...       ...   \n",
       "1912  QVQLVQSGAEVKKPGSSVKVSCKASGGTFRSYAISWVRQAPGQGLE...       NaN  7.000000   \n",
       "1913  QVQLVQSGAEVKKPGSSVKVSCKASGGTFRSYAISWVRQAPGQGLE...       NaN  7.000000   \n",
       "1914  QVQLVQSGAEVKKPGSSVKVSCKASGGTFSSYAISWVRQAPGQGLE...       NaN  7.000000   \n",
       "1915  QVQLVQSGAEVKKPGSSVKVSCKASGGTFSSYAISWVRQAPGQGLE...       NaN  7.000000   \n",
       "1916  QVQLVQSGAEVKKPGSSVKVSCKASGGPFSSYAISWVRQAPGQGLE...       NaN  7.000000   \n",
       "\n",
       "      h1_class  h9_class  \n",
       "0            1         1  \n",
       "1            1         1  \n",
       "2            1         1  \n",
       "3            1         1  \n",
       "4            1         1  \n",
       "...        ...       ...  \n",
       "1912         0         0  \n",
       "1913         0         0  \n",
       "1914         0         0  \n",
       "1915         0         0  \n",
       "1916         0         0  \n",
       "\n",
       "[1917 rows x 8 columns]"
      ]
     },
     "execution_count": 19,
     "metadata": {},
     "output_type": "execute_result"
    }
   ],
   "source": [
    "df = load_processed_affinity_data(ab)\n",
    "df"
   ]
  },
  {
   "cell_type": "code",
   "execution_count": 20,
   "metadata": {},
   "outputs": [],
   "source": [
    "if save_df:\n",
    "    df.to_csv(os.path.join(save_data_dir, f\"{ab}_affinities.csv\"), index=False)"
   ]
  },
  {
   "cell_type": "code",
   "execution_count": 21,
   "metadata": {},
   "outputs": [
    {
     "name": "stdout",
     "output_type": "stream",
     "text": [
      "lower limit for -log(Kd): \t7.0\n",
      "Total df size for 6261 and h1: \t\t\t\t\t\t1,917\n",
      "Number of affinities for 6261 and h1 equal to lower limit: \t\t214\n",
      "Number of non-null affinities for 6261 and h1: \t\t\t\t1,887\n",
      "Number of non-null affinities for 6261 and h1 greater than lower limit: 1,673\n",
      "\n",
      "Proportion binding (not null and above lower limit) for 6261 and h1: 87.3%\n"
     ]
    }
   ],
   "source": [
    "# check the proportion binding against paper values\n",
    "\n",
    "ag = \"h1\"  # h1, h3, h9, fluB\n",
    "lower_limit = df[f\"{ag}_mean\"].min()\n",
    "print(f\"lower limit for -log(Kd): \\t{lower_limit}\")\n",
    "\n",
    "print(f\"Total df size for {ab} and {ag}: \\t\\t\\t\\t\\t\\t{df.shape[0]:,}\")\n",
    "\n",
    "lower_limit_df = df[df[f\"{ag}_mean\"]==lower_limit]\n",
    "print(f\"Number of affinities for {ab} and {ag} equal to lower limit: \\t\\t{lower_limit_df.shape[0]:,}\")\n",
    "\n",
    "not_null_df = df[~(df[f\"{ag}_mean\"].isnull())]\n",
    "print(f\"Number of non-null affinities for {ab} and {ag}: \\t\\t\\t\\t{not_null_df.shape[0]:,}\")\n",
    "\n",
    "binders_df = not_null_df[not_null_df[f\"{ag}_mean\"]>lower_limit]\n",
    "print(f\"Number of non-null affinities for {ab} and {ag} greater than lower limit: {binders_df.shape[0]:,}\")\n",
    "\n",
    "proportion = binders_df.shape[0]/df.shape[0]\n",
    "print(f\"\\nProportion binding (not null and above lower limit) for {ab} and {ag}: {100*proportion:.1f}%\")"
   ]
  },
  {
   "cell_type": "code",
   "execution_count": 22,
   "metadata": {},
   "outputs": [
    {
     "data": {
      "image/png": "[encoded data removed]",
      "text/plain": [
       "<Figure size 640x480 with 1 Axes>"
      ]
     },
     "metadata": {},
     "output_type": "display_data"
    }
   ],
   "source": [
    "plot_affinity_by_edit_distance(ab, df, target=ag)"
   ]
  },
  {
   "cell_type": "code",
   "execution_count": null,
   "metadata": {},
   "outputs": [],
   "source": []
  }
 ],
 "metadata": {
  "kernelspec": {
   "display_name": "bnab_flu_env",
   "language": "python",
   "name": "python3"
  },
  "language_info": {
   "codemirror_mode": {
    "name": "ipython",
    "version": 3
   },
   "file_extension": ".py",
   "mimetype": "text/x-python",
   "name": "python",
   "nbconvert_exporter": "python",
   "pygments_lexer": "ipython3",
   "version": "3.9.16"
  },
  "orig_nbformat": 4,
  "vscode": {
   "interpreter": {
    "hash": "3461f62269422539508c67a66eca98e9599a6678bbf00d49f8d4c61eaa146de6"
   }
  }
 },
 "nbformat": 4,
 "nbformat_minor": 2
}
